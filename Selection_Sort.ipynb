{
  "nbformat": 4,
  "nbformat_minor": 0,
  "metadata": {
    "colab": {
      "name": "Selection_Sort",
      "provenance": [],
      "collapsed_sections": [],
      "authorship_tag": "ABX9TyNiq1pYuaDX3XfpKVU9EPTQ",
      "include_colab_link": true
    },
    "kernelspec": {
      "name": "python3",
      "display_name": "Python 3"
    },
    "language_info": {
      "name": "python"
    }
  },
  "cells": [
    {
      "cell_type": "markdown",
      "metadata": {
        "id": "view-in-github",
        "colab_type": "text"
      },
      "source": [
        "<a href=\"https://colab.research.google.com/github/lje1343/ai/blob/main/Selection_Sort.ipynb\" target=\"_parent\"><img src=\"https://colab.research.google.com/assets/colab-badge.svg\" alt=\"Open In Colab\"/></a>"
      ]
    },
    {
      "cell_type": "code",
      "execution_count": 78,
      "metadata": {
        "colab": {
          "base_uri": "https://localhost:8080/"
        },
        "id": "ep9x2vg-W8bk",
        "outputId": "4f891a37-e9d6-4f07-894c-d6d788c82acc"
      },
      "outputs": [
        {
          "output_type": "stream",
          "name": "stdout",
          "text": [
            "[10, 11, 12, 13, 14]\n"
          ]
        }
      ],
      "source": [
        "# 단순 선택법 - 정렬되지 않은 데이터 중 가장 작은 데이터를 선택하여 맨 앞부터 순서대로\n",
        "# 0   1   2   3   4\n",
        "# 12  13  11  14  10\n",
        "# 10  11  12  13  14  <-- 정렬 끝\n",
        "\n",
        "arr = [12, 13, 11, 14, 10]\n",
        "\n",
        "for i in range(len(arr)):\n",
        "  # 1번째 for문 -> 5번 반복\n",
        "  for k in range(0, len(arr)-i-1):\n",
        "    # 2번째 for문\n",
        "    # ex.> i값이 0일경우 -> arr[0]을 제외한 다음 인덱스수만큼 돌려준다. arr[1]~arr[4]\n",
        "    if arr[k] > arr[k+1]:\n",
        "      # arr[k]값이 다음값보다 크면 앞 뒤 위치를 바꿔준다.\n",
        "      temp = arr[k] # temp : 임시 저장 공간 변수\n",
        "      arr[k] = arr[k+1]\n",
        "      arr[k+1] = temp\n",
        "      # ex.> 12 > 11 -> temp = 12 -> arr[k] = 11 -> arr[k+1] = 12\n",
        "\n",
        "print(arr)"
      ]
    },
    {
      "cell_type": "code",
      "source": [
        "# 단순 선택법 - 주석 X\n",
        "\n",
        "arr = [12, 13, 11, 14, 10]\n",
        "\n",
        "for i in range(len(arr)):\n",
        "  for k in range(0, len(arr)-i-1):\n",
        "    if arr[k] > arr[k+1]:\n",
        "      temp = arr[k]\n",
        "      arr[k] = arr[k+1]\n",
        "      arr[k+1] = temp\n",
        "\n",
        "print(arr)"
      ],
      "metadata": {
        "colab": {
          "base_uri": "https://localhost:8080/"
        },
        "id": "ksOddy1Cu0Oj",
        "outputId": "4c9e5133-db7d-4260-fb9a-3243c62d9759"
      },
      "execution_count": 77,
      "outputs": [
        {
          "output_type": "stream",
          "name": "stdout",
          "text": [
            "[10, 11, 12, 13, 14]\n"
          ]
        }
      ]
    }
  ]
}