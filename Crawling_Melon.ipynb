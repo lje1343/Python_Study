{
 "cells": [
  {
   "cell_type": "code",
   "execution_count": 1,
   "id": "374f34bc",
   "metadata": {},
   "outputs": [],
   "source": [
    "from selenium import webdriver  # 파이썬으로 웹 브라우저 컨트롤\n",
    "\n",
    "from bs4 import BeautifulSoup as bs # 분석을 용이하게 정제"
   ]
  },
  {
   "cell_type": "code",
   "execution_count": 2,
   "id": "a3f27428",
   "metadata": {},
   "outputs": [
    {
     "name": "stderr",
     "output_type": "stream",
     "text": [
      "C:\\Users\\ljieun\\AppData\\Local\\Temp/ipykernel_19320/3873821663.py:1: DeprecationWarning: executable_path has been deprecated, please pass in a Service object\n",
      "  driver = webdriver.Chrome('chromedriver.exe')\n"
     ]
    }
   ],
   "source": [
    "driver = webdriver.Chrome('chromedriver.exe')\n",
    "driver.get('https://www.melon.com/chart/index.htm')"
   ]
  },
  {
   "cell_type": "code",
   "execution_count": null,
   "id": "86ede4d7",
   "metadata": {},
   "outputs": [],
   "source": [
    "html = driver.page_source\n",
    "soup = bs(html)\n",
    "#soup"
   ]
  },
  {
   "cell_type": "code",
   "execution_count": 67,
   "id": "8f02d2a1",
   "metadata": {},
   "outputs": [
    {
     "data": {
      "text/plain": [
       "100"
      ]
     },
     "execution_count": 67,
     "metadata": {},
     "output_type": "execute_result"
    }
   ],
   "source": [
    "len(soup.select('tbody > tr'))"
   ]
  },
  {
   "cell_type": "code",
   "execution_count": 68,
   "id": "524bb236",
   "metadata": {},
   "outputs": [
    {
     "data": {
      "text/plain": [
       "'사랑은 늘 도망가'"
      ]
     },
     "execution_count": 68,
     "metadata": {},
     "output_type": "execute_result"
    }
   ],
   "source": [
    "title = songs[0].select('div.rank01 > span > a')[0].text.strip()\n",
    "title"
   ]
  },
  {
   "cell_type": "code",
   "execution_count": 69,
   "id": "00ac8723",
   "metadata": {},
   "outputs": [
    {
     "data": {
      "text/plain": [
       "'임영웅'"
      ]
     },
     "execution_count": 69,
     "metadata": {},
     "output_type": "execute_result"
    }
   ],
   "source": [
    "singer = songs[0].select('div.rank02 > a')[0].text.strip()\n",
    "singer"
   ]
  },
  {
   "cell_type": "code",
   "execution_count": 72,
   "id": "b78d93dd",
   "metadata": {},
   "outputs": [
    {
     "name": "stdout",
     "output_type": "stream",
     "text": [
      "[[1, '사랑은 늘 도망가', '임영웅'], [2, '취중고백', '김민석 (멜로망스)'], [3, 'INVU', '태연 (TAEYEON)'], [4, 'ELEVEN', 'IVE (아이브)'], [5, 'Step Back', 'GOT the beat'], [6, '호랑수월가', '탑현'], [7, '회전목마 (Feat. Zion.T, 원슈타인) (Prod. Slom)', 'sokodomo'], [8, '리무진 (Feat. MINO) (Prod. GRAY)', \"BE'O (비오)\"], [9, 'SMILEY (Feat. BIBI)', 'YENA (최예나)'], [10, '이제 나만 믿어요', '임영웅'], [11, 'Counting Stars (Feat. Beenzino)', \"BE'O (비오)\"], [12, '눈이 오잖아(Feat.헤이즈)', '이무진'], [13, \"Can't Control Myself\", '태연 (TAEYEON)'], [14, '다정히 내 이름을 부르면', '경서예지'], [15, 'Dreams Come True', 'aespa'], [16, '겨울잠', '아이유'], [17, '언제나 사랑해', '케이시 (Kassy)'], [18, '다시 사랑한다면 (김필 Ver.)', '임영웅'], [19, 'STAY', 'The Kid LAROI'], [20, '그대라는 사치', '임영웅'], [21, '신호등', '이무진'], [22, '별빛 같은 나의 사랑아', '임영웅'], [23, 'strawberry moon', '아이유'], [24, 'Next Level', 'aespa'], [25, '잊을 수 있을까', '노을'], [26, '잊었니', '임영웅'], [27, 'HERO', '임영웅'], [28, 'Christmas Tree', 'V'], [29, '만남은 쉽고 이별은 어려워 (Feat. Leellamarz) (Prod. TOIL)', '베이식 (Basick)'], [30, '끝사랑', '임영웅'], [31, '그래서 그래 (Feat. 윤하)', '에픽하이 (EPIK HIGH)'], [32, 'Savage', 'aespa'], [33, '드라마', '아이유'], [34, 'Butter', '방탄소년단'], [35, 'Bk Love', '임영웅'], [36, '너 아니면 안돼', '먼데이 키즈 (Monday Kiz)'], [37, '언덕나무', '이승윤'], [38, 'abcdefu', 'GAYLE'], [39, 'Dynamite', '방탄소년단'], [40, '서랍', '10CM'], [41, '우리가 헤어져야 했던 이유', '비비 (BIBI)'], [42, '흰눈', '먼데이 키즈 (Monday Kiz)'], [43, 'Permission to Dance', '방탄소년단'], [44, '너를 생각해', '주시크 (Joosiq)'], [45, 'My Universe', 'Coldplay'], [46, '너, 너 (N번째 연애 X 휘인 (Whee In))', '휘인 (Whee In)'], [47, 'OHAYO MY NIGHT', '디핵 (D-Hack)'], [48, '계단말고 엘리베이터', '임영웅'], [49, 'Dilemma', 'Apink (에이핑크)'], [50, '문득', \"BE'O (비오)\"], [51, '그런 밤 (Some Nights)', '태연 (TAEYEON)'], [52, 'Weekend', '태연 (TAEYEON)'], [53, '바라만 본다', 'MSG워너비(M.O.M)'], [54, '네가 없는 밤 (Feat. ASH ISLAND) (Prod. GRAY)', \"BE'O (비오)\"], [55, '불협화음 (Feat. AKMU) (Prod. GRAY)', 'Mudd the student'], [56, 'Celebrity', '아이유'], [57, '사랑이 아니었다고 말하지 마요', '이예준'], [58, '낙하 (with 아이유)', 'AKMU (악뮤)'], [59, '라일락', '아이유'], [60, '쉬어 (Feat. MINO) (Prod. GRAY)', '아넌딜라이트(Anandelight)'], [61, '밤하늘의 별을(2020)', '경서'], [62, \"Good Night (Feat. BE'O)\", '쿠기 (Coogie)'], [63, 'Wake Up (Prod. 코드 쿤스트)', '개코'], [64, '사이렌 Remix (Feat. UNEDUCATED KID, Paul Blanco)', '호미들'], [65, 'Bad Habits', 'Ed Sheeran'], [66, '헤픈 우연', '헤이즈 (Heize)'], [67, '그게 더 편할 것 같아 (N번째 연애 X 멜로망스)', '멜로망스'], [68, '대낮에 한 이별', '선예'], [69, '모든 날, 모든 순간 (Every day, Every Moment)', '폴킴'], [70, '찰나가 영원이 될 때 (The Eternal Moment)', '마크툽 (MAKTUB)'], [71, 'Stay Alive (Prod. SUGA of BTS)', '정국'], [72, '어떻게 이별까지 사랑하겠어, 널 사랑하는 거지', 'AKMU (악뮤)'], [73, '봄날', '방탄소년단'], [74, '고백', '멜로망스'], [75, 'Off My Face', 'Justin Bieber'], [76, '너의 모든 순간', '성시경'], [77, '내 손을 잡아', '아이유'], [78, 'Set Myself On Fire', '태연 (TAEYEON)'], [79, '작은 것들을 위한 시 (Boy With Luv) (Feat. Halsey)', '방탄소년단'], [80, '어른아이 (Toddler)', '태연 (TAEYEON)'], [81, 'DM', '프로미스나인'], [82, '강변북로', '황인욱'], [83, '이별후회', '김나영'], [84, '추억은 만남보다 이별에 남아', '정동하'], [85, \"롤린 (Rollin')\", '브레이브걸스'], [86, 'Savage Love (Laxed - Siren Beat) (BTS Remix)', 'Jawsh 685'], [87, 'Blueming', '아이유'], [88, '여름비', '샘김 (Sam Kim)'], [89, '오늘도 빛나는 너에게 (To You My Light) (Feat.이라온)', '마크툽 (MAKTUB)'], [90, 'Dun Dun Dance', '오마이걸 (OH MY GIRL)'], [91, '밝게 빛나는 별이 되어 비춰줄게', '송이한'], [92, 'Because', 'ASH ISLAND'], [93, 'Siren', '태연 (TAEYEON)'], [94, '안녕 우린 헤어져야만 해', '전상근'], [95, 'Life Goes On', '방탄소년단'], [96, 'Timeless', '태연 (TAEYEON)'], [97, '취기를 빌려 (취향저격 그녀 X 산들)', '산들'], [98, '비가 오는 날엔 (2021)', '헤이즈 (Heize)'], [99, '시간을 거슬러 (낮에 뜨는 달 X 케이윌)', '케이윌'], [100, '그날에 나는 맘이 편했을까', '이예준']]\n"
     ]
    }
   ],
   "source": [
    "song_data = []\n",
    "rank = 1\n",
    "songs = soup.select('tbody > tr')\n",
    "\n",
    "for song in songs:\n",
    "  title = song.select('div.rank01 > span  a')[0].text\n",
    "  singer = song.select('div.rank02 > a')[0].text\n",
    "  song_data.append([rank, title, singer])\n",
    "  rank+=1\n",
    "\n",
    "print(song_data)\n"
   ]
  },
  {
   "cell_type": "code",
   "execution_count": 73,
   "id": "61cd9247",
   "metadata": {},
   "outputs": [
    {
     "data": {
      "text/html": [
       "<div>\n",
       "<style scoped>\n",
       "    .dataframe tbody tr th:only-of-type {\n",
       "        vertical-align: middle;\n",
       "    }\n",
       "\n",
       "    .dataframe tbody tr th {\n",
       "        vertical-align: top;\n",
       "    }\n",
       "\n",
       "    .dataframe thead th {\n",
       "        text-align: right;\n",
       "    }\n",
       "</style>\n",
       "<table border=\"1\" class=\"dataframe\">\n",
       "  <thead>\n",
       "    <tr style=\"text-align: right;\">\n",
       "      <th></th>\n",
       "      <th>순위</th>\n",
       "      <th>타이틀</th>\n",
       "      <th>가수</th>\n",
       "    </tr>\n",
       "  </thead>\n",
       "  <tbody>\n",
       "    <tr>\n",
       "      <th>0</th>\n",
       "      <td>1</td>\n",
       "      <td>사랑은 늘 도망가</td>\n",
       "      <td>임영웅</td>\n",
       "    </tr>\n",
       "    <tr>\n",
       "      <th>1</th>\n",
       "      <td>2</td>\n",
       "      <td>취중고백</td>\n",
       "      <td>김민석 (멜로망스)</td>\n",
       "    </tr>\n",
       "    <tr>\n",
       "      <th>2</th>\n",
       "      <td>3</td>\n",
       "      <td>INVU</td>\n",
       "      <td>태연 (TAEYEON)</td>\n",
       "    </tr>\n",
       "    <tr>\n",
       "      <th>3</th>\n",
       "      <td>4</td>\n",
       "      <td>ELEVEN</td>\n",
       "      <td>IVE (아이브)</td>\n",
       "    </tr>\n",
       "    <tr>\n",
       "      <th>4</th>\n",
       "      <td>5</td>\n",
       "      <td>Step Back</td>\n",
       "      <td>GOT the beat</td>\n",
       "    </tr>\n",
       "    <tr>\n",
       "      <th>...</th>\n",
       "      <td>...</td>\n",
       "      <td>...</td>\n",
       "      <td>...</td>\n",
       "    </tr>\n",
       "    <tr>\n",
       "      <th>95</th>\n",
       "      <td>96</td>\n",
       "      <td>Timeless</td>\n",
       "      <td>태연 (TAEYEON)</td>\n",
       "    </tr>\n",
       "    <tr>\n",
       "      <th>96</th>\n",
       "      <td>97</td>\n",
       "      <td>취기를 빌려 (취향저격 그녀 X 산들)</td>\n",
       "      <td>산들</td>\n",
       "    </tr>\n",
       "    <tr>\n",
       "      <th>97</th>\n",
       "      <td>98</td>\n",
       "      <td>비가 오는 날엔 (2021)</td>\n",
       "      <td>헤이즈 (Heize)</td>\n",
       "    </tr>\n",
       "    <tr>\n",
       "      <th>98</th>\n",
       "      <td>99</td>\n",
       "      <td>시간을 거슬러 (낮에 뜨는 달 X 케이윌)</td>\n",
       "      <td>케이윌</td>\n",
       "    </tr>\n",
       "    <tr>\n",
       "      <th>99</th>\n",
       "      <td>100</td>\n",
       "      <td>그날에 나는 맘이 편했을까</td>\n",
       "      <td>이예준</td>\n",
       "    </tr>\n",
       "  </tbody>\n",
       "</table>\n",
       "<p>100 rows × 3 columns</p>\n",
       "</div>"
      ],
      "text/plain": [
       "     순위                      타이틀            가수\n",
       "0     1                사랑은 늘 도망가           임영웅\n",
       "1     2                     취중고백    김민석 (멜로망스)\n",
       "2     3                     INVU  태연 (TAEYEON)\n",
       "3     4                   ELEVEN     IVE (아이브)\n",
       "4     5                Step Back  GOT the beat\n",
       "..  ...                      ...           ...\n",
       "95   96                 Timeless  태연 (TAEYEON)\n",
       "96   97    취기를 빌려 (취향저격 그녀 X 산들)            산들\n",
       "97   98          비가 오는 날엔 (2021)   헤이즈 (Heize)\n",
       "98   99  시간을 거슬러 (낮에 뜨는 달 X 케이윌)           케이윌\n",
       "99  100           그날에 나는 맘이 편했을까           이예준\n",
       "\n",
       "[100 rows x 3 columns]"
      ]
     },
     "execution_count": 73,
     "metadata": {},
     "output_type": "execute_result"
    }
   ],
   "source": [
    "import pandas as pd\n",
    "\n",
    "df = pd.DataFrame(song_data, columns = ['순위','타이틀','가수'])\n",
    "df"
   ]
  },
  {
   "cell_type": "code",
   "execution_count": 74,
   "id": "a03d8494",
   "metadata": {},
   "outputs": [],
   "source": [
    "df.to_excel('Melon.xlsx', index=False)"
   ]
  }
 ],
 "metadata": {
  "kernelspec": {
   "display_name": "Python 3 (ipykernel)",
   "language": "python",
   "name": "python3"
  },
  "language_info": {
   "codemirror_mode": {
    "name": "ipython",
    "version": 3
   },
   "file_extension": ".py",
   "mimetype": "text/x-python",
   "name": "python",
   "nbconvert_exporter": "python",
   "pygments_lexer": "ipython3",
   "version": "3.9.7"
  }
 },
 "nbformat": 4,
 "nbformat_minor": 5
}
